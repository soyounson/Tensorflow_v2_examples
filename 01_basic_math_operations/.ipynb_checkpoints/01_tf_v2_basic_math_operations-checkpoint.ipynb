{
 "cells": [
  {
   "cell_type": "code",
   "execution_count": 1,
   "metadata": {},
   "outputs": [],
   "source": [
    "#|****************************************************************|#\n",
    "#|*********** 01_math operations (tensorflow v.2.x) **************|#\n",
    "#|****************************************************************|# \n",
    "#|                                                                |#\n",
    "#|     prerequisite : python v.3.x                                |#\n",
    "#|                    tensorflow v.2.x                            |# \n",
    "#|                                                                |#\n",
    "#|     shortcut to run a code : ctl + enter                       |#\n",
    "#|                                                                |#\n",
    "#|----------------------------------------------------------------|#\n",
    "#|     written by: S.Son (soyoun.son@gmail.com)                   |# \n",
    "#|                 https://github.com/soyounson                   |# \n",
    "#|                                                                |# \n",
    "#|     original written date :  Nov/20/2020                       |# \n",
    "#|                                                                |# \n",
    "#|****************************************************************|#"
   ]
  },
  {
   "cell_type": "code",
   "execution_count": 221,
   "metadata": {},
   "outputs": [],
   "source": [
    "import tensorflow as tf\n",
    "import tensorboard"
   ]
  },
  {
   "cell_type": "code",
   "execution_count": 236,
   "metadata": {},
   "outputs": [
    {
     "name": "stdout",
     "output_type": "stream",
     "text": [
      "---------------------------------\n",
      "Your tensorflow version: 2.3.1\n",
      "---------------------------------\n"
     ]
    }
   ],
   "source": [
    "#**********************\n",
    "#\\\\\\\\\\ check your tf version\n",
    "#**********************\n",
    "print('---------------------------------')\n",
    "print('Your tensorflow version:', tf.__version__)\n",
    "print('---------------------------------')"
   ]
  },
  {
   "cell_type": "code",
   "execution_count": 223,
   "metadata": {},
   "outputs": [],
   "source": [
    "#**********************\n",
    "#\\\\\\\\\\ Define constants\n",
    "#********************** \n",
    "a = tf.constant(3.0, name='a')\n",
    "b = tf.constant(5.0, name='b')\n",
    "c = tf.constant(1.0, name='c')"
   ]
  },
  {
   "cell_type": "code",
   "execution_count": 224,
   "metadata": {},
   "outputs": [
    {
     "name": "stdout",
     "output_type": "stream",
     "text": [
      "<tf.Variable 'Variable:0' shape=(1,) dtype=float32, numpy=array([0.06665072], dtype=float32)> [0.06665072]\n"
     ]
    }
   ],
   "source": [
    "#**********************\n",
    "#\\\\\\\\\\ Define variable\n",
    "#**********************\n",
    "f = tf.Variable(tf.random.normal([1]))\n",
    "# print (tensor, numpy)\n",
    "print(f,f.numpy())"
   ]
  },
  {
   "cell_type": "code",
   "execution_count": 225,
   "metadata": {},
   "outputs": [
    {
     "name": "stdout",
     "output_type": "stream",
     "text": [
      "8.0 tf.Tensor(8.0, shape=(), dtype=float32)\n"
     ]
    }
   ],
   "source": [
    "#**********************\n",
    "#\\\\\\\\\\ Operation\n",
    "#**********************\n",
    "d = tf.add(a,b).numpy()\n",
    "# change type : numpy ➔ tensor \n",
    "e = tf.convert_to_tensor(d)\n",
    "print(d, e)"
   ]
  },
  {
   "cell_type": "code",
   "execution_count": 232,
   "metadata": {},
   "outputs": [
    {
     "name": "stdout",
     "output_type": "stream",
     "text": [
      "step= 0 ,value= 3.0\n",
      "step= 1 ,value= 8.0\n",
      "step= 2 ,value= 13.0\n"
     ]
    }
   ],
   "source": [
    "#**********************\n",
    "#\\\\\\\\\\ Function\n",
    "#**********************\n",
    "@tf.function\n",
    "def my_opt(x,y,i):\n",
    "    return x+y*i\n",
    "\n",
    "tot_iter = 3\n",
    "for i in range(0,tot_iter):\n",
    "    d = my_opt(a,b,i)\n",
    "    print('step=',i,',value=',d.numpy())"
   ]
  }
 ],
 "metadata": {
  "kernelspec": {
   "display_name": "Python 3",
   "language": "python",
   "name": "python3"
  },
  "language_info": {
   "codemirror_mode": {
    "name": "ipython",
    "version": 3
   },
   "file_extension": ".py",
   "mimetype": "text/x-python",
   "name": "python",
   "nbconvert_exporter": "python",
   "pygments_lexer": "ipython3",
   "version": "3.7.6"
  }
 },
 "nbformat": 4,
 "nbformat_minor": 4
}
